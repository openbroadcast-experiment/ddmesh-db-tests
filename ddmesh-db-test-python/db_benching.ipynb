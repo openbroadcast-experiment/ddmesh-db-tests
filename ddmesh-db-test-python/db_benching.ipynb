{
 "cells": [
  {
   "cell_type": "markdown",
   "source": [
    "# Install dependencies"
   ],
   "metadata": {
    "collapsed": false
   },
   "id": "dee30667de21bf4f"
  },
  {
   "cell_type": "markdown",
   "source": [],
   "metadata": {
    "collapsed": false
   },
   "id": "8ac2376e001dc601"
  },
  {
   "cell_type": "code",
   "execution_count": 2,
   "id": "initial_id",
   "metadata": {
    "collapsed": true,
    "ExecuteTime": {
     "end_time": "2024-03-03T20:39:25.992608Z",
     "start_time": "2024-03-03T20:39:25.990843Z"
    }
   },
   "outputs": [],
   "source": [
    "#!conda install Faker openai aiohttp pyarrow pandas"
   ]
  },
  {
   "cell_type": "markdown",
   "source": [
    "# Generate fake reviews\n",
    "\n",
    "Performs poorly because it doesn't have fine-tuning\n"
   ],
   "metadata": {
    "collapsed": false
   },
   "id": "ebc374e38ba3b8dd"
  },
  {
   "cell_type": "code",
   "outputs": [
    {
     "ename": "NameError",
     "evalue": "name 'openai_client' is not defined",
     "output_type": "error",
     "traceback": [
      "\u001B[0;31m---------------------------------------------------------------------------\u001B[0m",
      "\u001B[0;31mNameError\u001B[0m                                 Traceback (most recent call last)",
      "Cell \u001B[0;32mIn[3], line 29\u001B[0m\n\u001B[1;32m     27\u001B[0m \u001B[38;5;66;03m# Optionally, wait for all futures to complete (this is implicit when exiting the context manager)\u001B[39;00m\n\u001B[1;32m     28\u001B[0m \u001B[38;5;28;01mfor\u001B[39;00m future \u001B[38;5;129;01min\u001B[39;00m as_completed(futures):\n\u001B[0;32m---> 29\u001B[0m     \u001B[43mfuture\u001B[49m\u001B[38;5;241;43m.\u001B[39;49m\u001B[43mresult\u001B[49m\u001B[43m(\u001B[49m\u001B[43m)\u001B[49m  \u001B[38;5;66;03m# This would raise exceptions if any occurred within the threads\u001B[39;00m\n",
      "File \u001B[0;32m~/miniconda3/envs/prompt_engineering_course/lib/python3.11/concurrent/futures/_base.py:449\u001B[0m, in \u001B[0;36mFuture.result\u001B[0;34m(self, timeout)\u001B[0m\n\u001B[1;32m    447\u001B[0m     \u001B[38;5;28;01mraise\u001B[39;00m CancelledError()\n\u001B[1;32m    448\u001B[0m \u001B[38;5;28;01melif\u001B[39;00m \u001B[38;5;28mself\u001B[39m\u001B[38;5;241m.\u001B[39m_state \u001B[38;5;241m==\u001B[39m FINISHED:\n\u001B[0;32m--> 449\u001B[0m     \u001B[38;5;28;01mreturn\u001B[39;00m \u001B[38;5;28;43mself\u001B[39;49m\u001B[38;5;241;43m.\u001B[39;49m\u001B[43m__get_result\u001B[49m\u001B[43m(\u001B[49m\u001B[43m)\u001B[49m\n\u001B[1;32m    451\u001B[0m \u001B[38;5;28mself\u001B[39m\u001B[38;5;241m.\u001B[39m_condition\u001B[38;5;241m.\u001B[39mwait(timeout)\n\u001B[1;32m    453\u001B[0m \u001B[38;5;28;01mif\u001B[39;00m \u001B[38;5;28mself\u001B[39m\u001B[38;5;241m.\u001B[39m_state \u001B[38;5;129;01min\u001B[39;00m [CANCELLED, CANCELLED_AND_NOTIFIED]:\n",
      "File \u001B[0;32m~/miniconda3/envs/prompt_engineering_course/lib/python3.11/concurrent/futures/_base.py:401\u001B[0m, in \u001B[0;36mFuture.__get_result\u001B[0;34m(self)\u001B[0m\n\u001B[1;32m    399\u001B[0m \u001B[38;5;28;01mif\u001B[39;00m \u001B[38;5;28mself\u001B[39m\u001B[38;5;241m.\u001B[39m_exception:\n\u001B[1;32m    400\u001B[0m     \u001B[38;5;28;01mtry\u001B[39;00m:\n\u001B[0;32m--> 401\u001B[0m         \u001B[38;5;28;01mraise\u001B[39;00m \u001B[38;5;28mself\u001B[39m\u001B[38;5;241m.\u001B[39m_exception\n\u001B[1;32m    402\u001B[0m     \u001B[38;5;28;01mfinally\u001B[39;00m:\n\u001B[1;32m    403\u001B[0m         \u001B[38;5;66;03m# Break a reference cycle with the exception in self._exception\u001B[39;00m\n\u001B[1;32m    404\u001B[0m         \u001B[38;5;28mself\u001B[39m \u001B[38;5;241m=\u001B[39m \u001B[38;5;28;01mNone\u001B[39;00m\n",
      "File \u001B[0;32m~/miniconda3/envs/prompt_engineering_course/lib/python3.11/concurrent/futures/thread.py:58\u001B[0m, in \u001B[0;36m_WorkItem.run\u001B[0;34m(self)\u001B[0m\n\u001B[1;32m     55\u001B[0m     \u001B[38;5;28;01mreturn\u001B[39;00m\n\u001B[1;32m     57\u001B[0m \u001B[38;5;28;01mtry\u001B[39;00m:\n\u001B[0;32m---> 58\u001B[0m     result \u001B[38;5;241m=\u001B[39m \u001B[38;5;28;43mself\u001B[39;49m\u001B[38;5;241;43m.\u001B[39;49m\u001B[43mfn\u001B[49m\u001B[43m(\u001B[49m\u001B[38;5;241;43m*\u001B[39;49m\u001B[38;5;28;43mself\u001B[39;49m\u001B[38;5;241;43m.\u001B[39;49m\u001B[43margs\u001B[49m\u001B[43m,\u001B[49m\u001B[43m \u001B[49m\u001B[38;5;241;43m*\u001B[39;49m\u001B[38;5;241;43m*\u001B[39;49m\u001B[38;5;28;43mself\u001B[39;49m\u001B[38;5;241;43m.\u001B[39;49m\u001B[43mkwargs\u001B[49m\u001B[43m)\u001B[49m\n\u001B[1;32m     59\u001B[0m \u001B[38;5;28;01mexcept\u001B[39;00m \u001B[38;5;167;01mBaseException\u001B[39;00m \u001B[38;5;28;01mas\u001B[39;00m exc:\n\u001B[1;32m     60\u001B[0m     \u001B[38;5;28mself\u001B[39m\u001B[38;5;241m.\u001B[39mfuture\u001B[38;5;241m.\u001B[39mset_exception(exc)\n",
      "Cell \u001B[0;32mIn[3], line 6\u001B[0m, in \u001B[0;36mgenerate_and_save_review\u001B[0;34m(executor, i)\u001B[0m\n\u001B[1;32m      5\u001B[0m \u001B[38;5;28;01mdef\u001B[39;00m \u001B[38;5;21mgenerate_and_save_review\u001B[39m(executor, i):\n\u001B[0;32m----> 6\u001B[0m     chat_completion \u001B[38;5;241m=\u001B[39m \u001B[43mopenai_client\u001B[49m\u001B[38;5;241m.\u001B[39mchat\u001B[38;5;241m.\u001B[39mcompletions\u001B[38;5;241m.\u001B[39mcreate(\n\u001B[1;32m      7\u001B[0m         model\u001B[38;5;241m=\u001B[39m\u001B[38;5;124m\"\u001B[39m\u001B[38;5;124mgpt-3.5-turbo\u001B[39m\u001B[38;5;124m\"\u001B[39m,\n\u001B[1;32m      8\u001B[0m         messages\u001B[38;5;241m=\u001B[39m[{\u001B[38;5;124m\"\u001B[39m\u001B[38;5;124mrole\u001B[39m\u001B[38;5;124m\"\u001B[39m: \u001B[38;5;124m\"\u001B[39m\u001B[38;5;124muser\u001B[39m\u001B[38;5;124m\"\u001B[39m,\n\u001B[1;32m      9\u001B[0m                    \u001B[38;5;124m\"\u001B[39m\u001B[38;5;124mcontent\u001B[39m\u001B[38;5;124m\"\u001B[39m: \u001B[38;5;124m\"\u001B[39m\u001B[38;5;124mWrite the text for a review for a food item. Do not use placeholders, fill in details with whatever food, business, restaurant, franchise, or whatever you decide, fill in gaps with some food that makes sense in the context of the review. Length of the review should vary from 100-500 words. Your review does not have to be positive, use whatever tone and emotion you feel like, just keep the overall tone of the review consistent. Try to avoid using a cookie cutter template, make the review unique and interesting.\u001B[39m\u001B[38;5;124m\"\u001B[39m}]\n\u001B[1;32m     10\u001B[0m     )\n\u001B[1;32m     11\u001B[0m     text \u001B[38;5;241m=\u001B[39m chat_completion\u001B[38;5;241m.\u001B[39mchoices[\u001B[38;5;241m0\u001B[39m]\u001B[38;5;241m.\u001B[39mmessage\u001B[38;5;241m.\u001B[39mcontent\u001B[38;5;241m.\u001B[39mstrip()\n\u001B[1;32m     12\u001B[0m     \u001B[38;5;28mprint\u001B[39m(text)\n",
      "\u001B[0;31mNameError\u001B[0m: name 'openai_client' is not defined"
     ]
    }
   ],
   "source": [
    "import time\n",
    "from concurrent.futures import ThreadPoolExecutor, as_completed\n",
    "\n",
    "\n",
    "def generate_and_save_review(executor, i):\n",
    "    chat_completion = openai_client.chat.completions.create(\n",
    "        model=\"gpt-3.5-turbo\",\n",
    "        messages=[{\"role\": \"user\",\n",
    "                   \"content\": \"Write the text for a review for a food item. Do not use placeholders, fill in details with whatever food, business, restaurant, franchise, or whatever you decide, fill in gaps with some food that makes sense in the context of the review. Length of the review should vary from 100-500 words. Your review does not have to be positive, use whatever tone and emotion you feel like, just keep the overall tone of the review consistent. Try to avoid using a cookie cutter template, make the review unique and interesting.\"}]\n",
    "    )\n",
    "    text = chat_completion.choices[0].message.content.strip()\n",
    "    print(text)\n",
    "    # Execute DB insert in the thread pool\n",
    "    future_db = executor.submit(conn.execute, \"INSERT INTO FakeFoodReviewSourceText (Text) VALUES (?)\", (text,))\n",
    "    future_db.result()  # Wait for DB operation to complete\n",
    "    conn.commit()\n",
    "\n",
    "    # File writing\n",
    "    filename = f\"./amazon_food_reviews_dataset/fake-food-reviews/review_{time.time()}.txt\"\n",
    "    with open(filename, \"w\") as f:\n",
    "        f.write(text)\n",
    "\n",
    "\n",
    "with ThreadPoolExecutor(max_workers=10) as executor:\n",
    "    futures = [executor.submit(generate_and_save_review, executor, i) for i in range(1000)]\n",
    "\n",
    "    # Optionally, wait for all futures to complete (this is implicit when exiting the context manager)\n",
    "    for future in as_completed(futures):\n",
    "        future.result()  # This would raise exceptions if any occurred within the threads\n",
    "    "
   ],
   "metadata": {
    "collapsed": false,
    "ExecuteTime": {
     "end_time": "2024-03-03T20:39:29.992390Z",
     "start_time": "2024-03-03T20:39:29.861344Z"
    }
   },
   "id": "b2ea528a7a95fecb",
   "execution_count": 3
  },
  {
   "cell_type": "code",
   "outputs": [],
   "source": [
    "# Create in memory kms for parquet encryption\n",
    "\n",
    "# Licensed to the Apache Software Foundation (ASF) under one\n",
    "# or more contributor license agreements.  See the NOTICE file\n",
    "# distributed with this work for additional information\n",
    "# regarding copyright ownership.  The ASF licenses this file\n",
    "# to you under the Apache License, Version 2.0 (the\n",
    "# \"License\"); you may not use this file except in compliance\n",
    "# with the License.  You may obtain a copy of the License at\n",
    "#\n",
    "#   http://www.apache.org/licenses/LICENSE-2.0\n",
    "#\n",
    "# Unless required by applicable law or agreed to in writing,\n",
    "# software distributed under the License is distributed on an\n",
    "# \"AS IS\" BASIS, WITHOUT WARRANTIES OR CONDITIONS OF ANY\n",
    "# KIND, either express or implied.  See the License for the\n",
    "# specific language governing permissions and limitations\n",
    "# under the License.\n",
    "import base64\n",
    "\n",
    "import pyarrow.parquet.encryption as pe\n",
    "\n",
    "\n",
    "class InMemoryKmsClient(pe.KmsClient):\n",
    "    \"\"\"This is a mock class implementation of KmsClient, built for testing\n",
    "    only.\n",
    "    \"\"\"\n",
    "\n",
    "    def __init__(self, config):\n",
    "        \"\"\"Create an InMemoryKmsClient instance.\"\"\"\n",
    "        pe.KmsClient.__init__(self)\n",
    "        self.master_keys_map = config.custom_kms_conf\n",
    "\n",
    "    def wrap_key(self, key_bytes, master_key_identifier):\n",
    "        \"\"\"Not a secure cipher - the wrapped key\n",
    "        is just the master key concatenated with key bytes\"\"\"\n",
    "        master_key_bytes = self.master_keys_map[master_key_identifier].encode(\n",
    "            'utf-8')\n",
    "        wrapped_key = b\"\".join([master_key_bytes, key_bytes])\n",
    "        result = base64.b64encode(wrapped_key)\n",
    "        return result\n",
    "\n",
    "    def unwrap_key(self, wrapped_key, master_key_identifier):\n",
    "        \"\"\"Not a secure cipher - just extract the key from\n",
    "        the wrapped key\"\"\"\n",
    "        expected_master_key = self.master_keys_map[master_key_identifier]\n",
    "        decoded_wrapped_key = base64.b64decode(wrapped_key)\n",
    "        master_key_bytes = decoded_wrapped_key[:16]\n",
    "        decrypted_key = decoded_wrapped_key[16:]\n",
    "        if (expected_master_key == master_key_bytes.decode('utf-8')):\n",
    "            return decrypted_key\n",
    "        raise ValueError(\"Incorrect master key used\",\n",
    "                         master_key_bytes, decrypted_key)\n",
    "\n",
    "\n",
    "def verify_file_encrypted(path):\n",
    "    \"\"\"Verify that the file is encrypted by looking at its first 4 bytes.\n",
    "    If it's the magic string PARE\n",
    "    then this is a parquet with encrypted footer.\"\"\"\n",
    "    with open(path, \"rb\") as file:\n",
    "        magic_str = file.read(4)\n",
    "        # Verify magic string for parquet with encrypted footer is PARE\n",
    "        assert magic_str == b'PARE'\n"
   ],
   "metadata": {
    "collapsed": false,
    "ExecuteTime": {
     "end_time": "2024-03-03T20:39:31.658699Z",
     "start_time": "2024-03-03T20:39:31.436774Z"
    }
   },
   "id": "5ea3952a27bf1b37",
   "execution_count": 4
  },
  {
   "cell_type": "markdown",
   "source": [
    "# Copy sqlite database to parquet\n",
    "\n",
    "## Example code from\n",
    "https://github.com/apache/arrow/blob/main/python/examples/dataset/write_dataset_encrypted.py#L25\n",
    "https://github.com/apache/arrow/blob/45918a90a6ca1cf3fd67c256a7d6a240249e555a/python/pyarrow/tests/parquet/test_encryption.py#L68-L98"
   ],
   "metadata": {
    "collapsed": false
   },
   "id": "12d5b8dbcad510c4"
  },
  {
   "cell_type": "code",
   "outputs": [
    {
     "name": "stdout",
     "output_type": "stream",
     "text": [
      "<pyarrow._parquet_encryption.EncryptionConfiguration object at 0x1166bfa20>\n",
      "<pyarrow._parquet_encryption.KmsConnectionConfig object at 0x1166bf8a0>\n",
      "done\n"
     ]
    }
   ],
   "source": [
    "from pyarrow._parquet_encryption import CryptoFactory, timedelta\n",
    "import sqlite3\n",
    "import pandas as pd\n",
    "import pyarrow as pa\n",
    "import pyarrow.parquet as pq\n",
    "import pyarrow.parquet.encryption as pe\n",
    "PARQUET_NAME = 'encrypted_table.in_mem.parquet'\n",
    "FOOTER_KEY = b\"0123456789112345\"\n",
    "FOOTER_KEY_NAME = \"footer_key\"\n",
    "COL_KEY = b\"1234567890123450\"\n",
    "COL_KEY_NAME = \"col_key\"\n",
    "\n",
    "# Connect to the SQLite database\n",
    "conn = sqlite3.connect('./large_db.sqlite')  # Replace 'your_database.db' with your database file\n",
    "\n",
    "# Retrieve the data into a Pandas DataFrame\n",
    "query = \"SELECT * FROM Reviews LIMIT 10\"  # Replace 'your_table' with your actual table name\n",
    "df = pd.read_sql_query(query, conn)\n",
    "\n",
    "# Convert the DataFrame to a PyArrow Table\n",
    "table = pa.Table.from_pandas(df)\n",
    "# Export the PyArrow Table to Parquet format\n",
    "encryption_config = pe.EncryptionConfiguration(\n",
    "    column_keys={COL_KEY_NAME: [\"PrivateKey\", \"Text\"]},\n",
    "    footer_key=FOOTER_KEY_NAME,\n",
    "    encryption_algorithm=\"AES_GCM_V1\",\n",
    "    cache_lifetime=timedelta(minutes=5),\n",
    "    # data_key_length_bits=256,\n",
    ")\n",
    "kms_connection_config = pe.KmsConnectionConfig(\n",
    "    custom_kms_conf={\n",
    "        FOOTER_KEY_NAME: FOOTER_KEY.decode(\"UTF-8\"),\n",
    "        COL_KEY_NAME: COL_KEY.decode(\"UTF-8\"),\n",
    "    }\n",
    ")\n",
    "def kms_factory(kms_connection_configuration):\n",
    "    return InMemoryKmsClient(kms_connection_configuration)\n",
    "\n",
    "print(encryption_config)\n",
    "print(kms_connection_config)\n",
    "facotyr = CryptoFactory(kms_factory)\n",
    "\n",
    "pq.write_table(\n",
    "    table,\n",
    "    'output_file.parquet',\n",
    "    ## {‘NONE’, ‘SNAPPY’, ‘GZIP’, ‘BROTLI’, ‘LZ4’, ‘ZSTD’}.\n",
    "    ## Note can set per column, compression={'n_legs': 'snappy', 'animal': 'gzip'}\n",
    "    compression='snappy',\n",
    "    # row_group_size=1000000,\n",
    "    encryption_properties=facotyr.file_encryption_properties(kms_connection_config, encryption_config),\n",
    ")\n",
    "verify_file_encrypted(\"output_file.parquet\")\n",
    "print(\"done\")\n",
    "# Close the SQLite connection\n",
    "conn.close()\n"
   ],
   "metadata": {
    "collapsed": false,
    "ExecuteTime": {
     "end_time": "2024-03-03T20:43:28.025813Z",
     "start_time": "2024-03-03T20:43:28.018942Z"
    }
   },
   "id": "baba2607f5573361",
   "execution_count": 10
  },
  {
   "cell_type": "code",
   "outputs": [
    {
     "name": "stdout",
     "output_type": "stream",
     "text": [
      "<pyarrow._parquet.FileMetaData object at 0x16f702750>\n",
      "  created_by: parquet-cpp-arrow version 15.0.0\n",
      "  num_columns: 12\n",
      "  num_rows: 10\n",
      "  num_row_groups: 1\n",
      "  format_version: 2.6\n",
      "  serialized_size: 7748\n",
      "<pyarrow._parquet.ParquetSchema object at 0x12fffc200>\n",
      "required group field_id=-1 schema {\n",
      "  optional int64 field_id=-1 Id;\n",
      "  optional binary field_id=-1 ProductId (String);\n",
      "  optional binary field_id=-1 UserId (String);\n",
      "  optional binary field_id=-1 ProfileName (String);\n",
      "  optional int64 field_id=-1 HelpfulnessNumerator;\n",
      "  optional int64 field_id=-1 HelpfulnessDenominator;\n",
      "  optional int64 field_id=-1 Score;\n",
      "  optional int64 field_id=-1 Time;\n",
      "  optional binary field_id=-1 Summary (String);\n",
      "  optional binary field_id=-1 Text (String);\n",
      "  optional binary field_id=-1 EthAddress (String);\n",
      "  optional binary field_id=-1 PrivateKey (String);\n",
      "}\n",
      "\n",
      "pyarrow.Table\n",
      "Id: int64\n",
      "ProductId: string\n",
      "UserId: string\n",
      "ProfileName: string\n",
      "HelpfulnessNumerator: int64\n",
      "HelpfulnessDenominator: int64\n",
      "Score: int64\n",
      "Time: int64\n",
      "Summary: string\n",
      "Text: string\n",
      "----\n",
      "Id: [[1,2,3,4,5,6,7,8,9,10]]\n",
      "ProductId: [[\"B001E4KFG0\",\"B00813GRG4\",\"B000LQOCH0\",\"B000UA0QIQ\",\"B006K2ZZ7K\",\"B006K2ZZ7K\",\"B006K2ZZ7K\",\"B006K2ZZ7K\",\"B000E7L2R4\",\"B00171APVA\"]]\n",
      "UserId: [[\"A3SGXH7AUHU8GW\",\"A1D87F6ZCVE5NK\",\"ABXLMWJIXXAIN\",\"A395BORC6FGVXV\",\"A1UQRSCLF8GW1T\",\"ADT0SRK1MGOEU\",\"A1SP2KVKFXXRU1\",\"A3JRGQVEQN31IQ\",\"A1MZYO9TZK0BBI\",\"A21BT40VZCCYT4\"]]\n",
      "ProfileName: [[\"delmartian\",\"dll pa\",\"Natalia Corres \"Natalia Corres\"\",\"Karl\",\"Michael D. Bigham \"M. Wassir\"\",\"Twoapennything\",\"David C. Sullivan\",\"Pamela G. Williams\",\"R. James\",\"Carol A. Reed\"]]\n",
      "HelpfulnessNumerator: [[1,0,1,3,0,0,0,0,1,0]]\n",
      "HelpfulnessDenominator: [[1,0,1,3,0,0,0,0,1,0]]\n",
      "Score: [[5,1,4,2,5,4,5,5,5,5]]\n",
      "Time: [[1303862400,1346976000,1219017600,1307923200,1350777600,1342051200,1340150400,1336003200,1322006400,1351209600]]\n",
      "Summary: [[\"Good Quality Dog Food\",\"Not as Advertised\",\"\"Delight\" says it all\",\"Cough Medicine\",\"Great taffy\",\"Nice Taffy\",\"Great!  Just as good as the expensive brands!\",\"Wonderful, tasty taffy\",\"Yay Barley\",\"Healthy Dog Food\"]]\n",
      "Text: [[\"I have bought several of the Vitality canned dog food products and have found them all to be of good quality. The product looks more like a stew than a processed meat and it smells better. My Labrador is finicky and she appreciates this product better than  most.\",\"Product arrived labeled as Jumbo Salted Peanuts...the peanuts were actually small sized unsalted. Not sure if this was an error or if the vendor intended to represent the product as \"Jumbo\".\",\"This is a confection that has been around a few centuries.  It is a light, pillowy citrus gelatin with nuts - in this case Filberts. And it is cut into tiny squares and then liberally coated with powdered sugar.  And it is a tiny mouthful of heaven.  Not too chewy, and very flavorful.  I highly recommend this yummy treat.  If you are familiar with the story of C.S. Lewis' \"The Lion, The Witch, and The Wardrobe\" - this is the treat that seduces Edmund into selling out his Brother and Sisters to the Witch.\",\"If you are looking for the secret ingredient in Robitussin I believe I have found it.  I got this in addition to the Root Beer Extract I ordered (which was good) and made some cherry soda.  The flavor is very medicinal.\",\"Great taffy at a great price.  There was a wide assortment of yummy taffy.  Delivery was very quick.  If your a taffy lover, this is a deal.\",\"I got a wild hair for taffy and ordered this five pound bag. The taffy was all very enjoyable with many flavors: watermelon, root beer, melon, peppermint, grape, etc. My only complaint is there was a bit too much red/black licorice-flavored pieces (just not my particular favorites). Between me, my kids, and my husband, this lasted only two weeks! I would recommend this brand of taffy -- it was a delightful treat.\",\"This saltwater taffy had great flavors and was very soft and chewy.  Each candy was individually wrapped well.  None of the candies were stuck together, which did happen in the expensive version, Fralinger's.  Would highly recommend this candy!  I served it at a beach-themed party and everyone loved it!\",\"This taffy is so good.  It is very soft and chewy.  The flavors are amazing.  I would definitely recommend you buying it.  Very satisfying!!\",\"Right now I'm mostly just sprouting this so my cats can eat the grass. They love it. I rotate it around with Wheatgrass and Rye too\",\"This is a very healthy dog food. Good for their digestion. Also good for small puppies. My dog eats her required amount at every feeding.\"]]\n"
     ]
    }
   ],
   "source": [
    "# Verify contents of parquet file\n",
    "decryption_properties = facotyr.file_decryption_properties(\n",
    "    kms_connection_config)\n",
    "parquet_file = pq.ParquetFile('output_file.parquet', decryption_properties=decryption_properties)\n",
    "print(parquet_file.metadata)\n",
    "print(parquet_file.schema)\n",
    "print(parquet_file.read_row_group(0, columns=['Id', 'ProductId', 'UserId', 'ProfileName', 'HelpfulnessNumerator', 'HelpfulnessDenominator', 'Score', 'Time', 'Summary', 'Text']))"
   ],
   "metadata": {
    "collapsed": false,
    "ExecuteTime": {
     "end_time": "2024-03-03T20:46:27.898784Z",
     "start_time": "2024-03-03T20:46:27.889203Z"
    }
   },
   "id": "203eead85f1e6cc8",
   "execution_count": 16
  }
 ],
 "metadata": {
  "kernelspec": {
   "display_name": "Python 3",
   "language": "python",
   "name": "python3"
  },
  "language_info": {
   "codemirror_mode": {
    "name": "ipython",
    "version": 2
   },
   "file_extension": ".py",
   "mimetype": "text/x-python",
   "name": "python",
   "nbconvert_exporter": "python",
   "pygments_lexer": "ipython2",
   "version": "2.7.6"
  }
 },
 "nbformat": 4,
 "nbformat_minor": 5
}
